{
 "cells": [
  {
   "cell_type": "markdown",
   "id": "c3dc5fa8",
   "metadata": {},
   "source": [
    "## Классификации эмоций в аудио\n",
    "\n",
    "На основе датасета аудио RAVDESS и модели Wav2Vec2.0 нужно научиться предсказывать эмоции на тестовой выборке"
   ]
  },
  {
   "cell_type": "markdown",
   "id": "c41f14da",
   "metadata": {},
   "source": [
    "**Подготовка датасета**"
   ]
  },
  {
   "cell_type": "markdown",
   "id": "fd7e9f52",
   "metadata": {},
   "source": [
    "Датасет RAVDESS состоит из аудио, озвученных 24 разными актёрами, в равной пропорции женщинами и мужчинами. Каждый актёр озвучил каждую фразу каждой эмоцией по два раза, правда разных фраз всего было две - \"Kids are talking by the door\" и \"Dogs are sitting by the door\". Помимо прочего, в датасете есть сила эмоции normal и strong, но для neutral эмоции strong нет."
   ]
  },
  {
   "cell_type": "markdown",
   "id": "05b25bd0",
   "metadata": {},
   "source": [
    "По большому счёту нам интересна только сама эмоция, так как ничего остального предсказывать нас не просят, и никаких дополнительных фичей в тренировочном датасете нет."
   ]
  },
  {
   "cell_type": "code",
   "execution_count": 1,
   "id": "b4e439d4",
   "metadata": {},
   "outputs": [
    {
     "name": "stdout",
     "output_type": "stream",
     "text": [
      "Defaulting to user installation because normal site-packages is not writeable\n",
      "Requirement already satisfied: librosa in /home/artem/.local/lib/python3.10/site-packages (0.10.1)\n",
      "Requirement already satisfied: pooch>=1.0 in /home/artem/.local/lib/python3.10/site-packages (from librosa) (1.7.0)\n",
      "Requirement already satisfied: numba>=0.51.0 in /home/artem/.local/lib/python3.10/site-packages (from librosa) (0.58.0)\n",
      "Requirement already satisfied: lazy-loader>=0.1 in /home/artem/.local/lib/python3.10/site-packages (from librosa) (0.3)\n",
      "Requirement already satisfied: numpy!=1.22.0,!=1.22.1,!=1.22.2,>=1.20.3 in /home/artem/.local/lib/python3.10/site-packages (from librosa) (1.25.2)\n",
      "Requirement already satisfied: msgpack>=1.0 in /home/artem/.local/lib/python3.10/site-packages (from librosa) (1.0.7)\n",
      "Requirement already satisfied: decorator>=4.3.0 in /home/artem/.local/lib/python3.10/site-packages (from librosa) (5.1.1)\n",
      "Requirement already satisfied: soxr>=0.3.2 in /home/artem/.local/lib/python3.10/site-packages (from librosa) (0.3.7)\n",
      "Requirement already satisfied: typing-extensions>=4.1.1 in /home/artem/.local/lib/python3.10/site-packages (from librosa) (4.8.0)\n",
      "Requirement already satisfied: scikit-learn>=0.20.0 in /home/artem/.local/lib/python3.10/site-packages (from librosa) (1.2.2)\n",
      "Requirement already satisfied: soundfile>=0.12.1 in /home/artem/.local/lib/python3.10/site-packages (from librosa) (0.12.1)\n",
      "Requirement already satisfied: joblib>=0.14 in /home/artem/.local/lib/python3.10/site-packages (from librosa) (1.2.0)\n",
      "Requirement already satisfied: scipy>=1.2.0 in /home/artem/.local/lib/python3.10/site-packages (from librosa) (1.11.3)\n",
      "Requirement already satisfied: audioread>=2.1.9 in /home/artem/.local/lib/python3.10/site-packages (from librosa) (3.0.1)\n",
      "Requirement already satisfied: llvmlite<0.42,>=0.41.0dev0 in /home/artem/.local/lib/python3.10/site-packages (from numba>=0.51.0->librosa) (0.41.0)\n",
      "Requirement already satisfied: packaging>=20.0 in /home/artem/.local/lib/python3.10/site-packages (from pooch>=1.0->librosa) (21.3)\n",
      "Requirement already satisfied: requests>=2.19.0 in /home/artem/.local/lib/python3.10/site-packages (from pooch>=1.0->librosa) (2.28.1)\n",
      "Requirement already satisfied: platformdirs>=2.5.0 in /home/artem/.local/lib/python3.10/site-packages (from pooch>=1.0->librosa) (3.11.0)\n",
      "Requirement already satisfied: threadpoolctl>=2.0.0 in /home/artem/.local/lib/python3.10/site-packages (from scikit-learn>=0.20.0->librosa) (3.1.0)\n",
      "Requirement already satisfied: cffi>=1.0 in /home/artem/.local/lib/python3.10/site-packages (from soundfile>=0.12.1->librosa) (1.15.0)\n",
      "Requirement already satisfied: pycparser in /home/artem/.local/lib/python3.10/site-packages (from cffi>=1.0->soundfile>=0.12.1->librosa) (2.21)\n",
      "Requirement already satisfied: pyparsing!=3.0.5,>=2.0.2 in /usr/lib/python3/dist-packages (from packaging>=20.0->pooch>=1.0->librosa) (2.4.7)\n",
      "Requirement already satisfied: idna<4,>=2.5 in /usr/lib/python3/dist-packages (from requests>=2.19.0->pooch>=1.0->librosa) (3.3)\n",
      "Requirement already satisfied: certifi>=2017.4.17 in /home/artem/.local/lib/python3.10/site-packages (from requests>=2.19.0->pooch>=1.0->librosa) (2022.12.7)\n",
      "Requirement already satisfied: urllib3<1.27,>=1.21.1 in /usr/lib/python3/dist-packages (from requests>=2.19.0->pooch>=1.0->librosa) (1.26.5)\n",
      "Requirement already satisfied: charset-normalizer<3,>=2 in /home/artem/.local/lib/python3.10/site-packages (from requests>=2.19.0->pooch>=1.0->librosa) (2.0.12)\n",
      "Defaulting to user installation because normal site-packages is not writeable\n",
      "Requirement already satisfied: ffmpeg in /home/artem/.local/lib/python3.10/site-packages (1.4)\n",
      "Defaulting to user installation because normal site-packages is not writeable\n",
      "Requirement already satisfied: torch in /home/artem/.local/lib/python3.10/site-packages (2.1.0)\n",
      "Requirement already satisfied: filelock in /home/artem/.local/lib/python3.10/site-packages (from torch) (3.12.4)\n",
      "Requirement already satisfied: triton==2.1.0 in /home/artem/.local/lib/python3.10/site-packages (from torch) (2.1.0)\n",
      "Requirement already satisfied: nvidia-curand-cu12==10.3.2.106 in /home/artem/.local/lib/python3.10/site-packages (from torch) (10.3.2.106)\n",
      "Requirement already satisfied: fsspec in /home/artem/.local/lib/python3.10/site-packages (from torch) (2023.9.2)\n",
      "Requirement already satisfied: nvidia-cudnn-cu12==8.9.2.26 in /home/artem/.local/lib/python3.10/site-packages (from torch) (8.9.2.26)\n",
      "Requirement already satisfied: networkx in /home/artem/.local/lib/python3.10/site-packages (from torch) (2.8.8)\n",
      "Requirement already satisfied: jinja2 in /home/artem/.local/lib/python3.10/site-packages (from torch) (3.1.2)\n",
      "Requirement already satisfied: nvidia-cusolver-cu12==11.4.5.107 in /home/artem/.local/lib/python3.10/site-packages (from torch) (11.4.5.107)\n",
      "Requirement already satisfied: nvidia-cufft-cu12==11.0.2.54 in /home/artem/.local/lib/python3.10/site-packages (from torch) (11.0.2.54)\n",
      "Requirement already satisfied: sympy in /home/artem/.local/lib/python3.10/site-packages (from torch) (1.12)\n",
      "Requirement already satisfied: typing-extensions in /home/artem/.local/lib/python3.10/site-packages (from torch) (4.8.0)\n",
      "Requirement already satisfied: nvidia-cuda-runtime-cu12==12.1.105 in /home/artem/.local/lib/python3.10/site-packages (from torch) (12.1.105)\n",
      "Requirement already satisfied: nvidia-cuda-cupti-cu12==12.1.105 in /home/artem/.local/lib/python3.10/site-packages (from torch) (12.1.105)\n",
      "Requirement already satisfied: nvidia-cublas-cu12==12.1.3.1 in /home/artem/.local/lib/python3.10/site-packages (from torch) (12.1.3.1)\n",
      "Requirement already satisfied: nvidia-nvtx-cu12==12.1.105 in /home/artem/.local/lib/python3.10/site-packages (from torch) (12.1.105)\n",
      "Requirement already satisfied: nvidia-nccl-cu12==2.18.1 in /home/artem/.local/lib/python3.10/site-packages (from torch) (2.18.1)\n",
      "Requirement already satisfied: nvidia-cusparse-cu12==12.1.0.106 in /home/artem/.local/lib/python3.10/site-packages (from torch) (12.1.0.106)\n",
      "Requirement already satisfied: nvidia-cuda-nvrtc-cu12==12.1.105 in /home/artem/.local/lib/python3.10/site-packages (from torch) (12.1.105)\n",
      "Requirement already satisfied: nvidia-nvjitlink-cu12 in /home/artem/.local/lib/python3.10/site-packages (from nvidia-cusolver-cu12==11.4.5.107->torch) (12.2.140)\n",
      "Requirement already satisfied: MarkupSafe>=2.0 in /usr/lib/python3/dist-packages (from jinja2->torch) (2.0.1)\n",
      "Requirement already satisfied: mpmath>=0.19 in /home/artem/.local/lib/python3.10/site-packages (from sympy->torch) (1.3.0)\n",
      "Defaulting to user installation because normal site-packages is not writeable\n",
      "Requirement already satisfied: transformers in /home/artem/.local/lib/python3.10/site-packages (4.34.0)\n",
      "Requirement already satisfied: regex!=2019.12.17 in /home/artem/.local/lib/python3.10/site-packages (from transformers) (2023.10.3)\n",
      "Requirement already satisfied: safetensors>=0.3.1 in /home/artem/.local/lib/python3.10/site-packages (from transformers) (0.4.0)\n",
      "Requirement already satisfied: tokenizers<0.15,>=0.14 in /home/artem/.local/lib/python3.10/site-packages (from transformers) (0.14.1)\n",
      "Requirement already satisfied: numpy>=1.17 in /home/artem/.local/lib/python3.10/site-packages (from transformers) (1.25.2)\n",
      "Requirement already satisfied: tqdm>=4.27 in /home/artem/.local/lib/python3.10/site-packages (from transformers) (4.64.1)\n",
      "Requirement already satisfied: requests in /home/artem/.local/lib/python3.10/site-packages (from transformers) (2.28.1)\n",
      "Requirement already satisfied: filelock in /home/artem/.local/lib/python3.10/site-packages (from transformers) (3.12.4)\n",
      "Requirement already satisfied: huggingface-hub<1.0,>=0.16.4 in /home/artem/.local/lib/python3.10/site-packages (from transformers) (0.17.3)\n",
      "Requirement already satisfied: pyyaml>=5.1 in /usr/lib/python3/dist-packages (from transformers) (5.4.1)\n",
      "Requirement already satisfied: packaging>=20.0 in /home/artem/.local/lib/python3.10/site-packages (from transformers) (21.3)\n",
      "Requirement already satisfied: typing-extensions>=3.7.4.3 in /home/artem/.local/lib/python3.10/site-packages (from huggingface-hub<1.0,>=0.16.4->transformers) (4.8.0)\n",
      "Requirement already satisfied: fsspec in /home/artem/.local/lib/python3.10/site-packages (from huggingface-hub<1.0,>=0.16.4->transformers) (2023.9.2)\n",
      "Requirement already satisfied: pyparsing!=3.0.5,>=2.0.2 in /usr/lib/python3/dist-packages (from packaging>=20.0->transformers) (2.4.7)\n"
     ]
    },
    {
     "name": "stdout",
     "output_type": "stream",
     "text": [
      "Requirement already satisfied: certifi>=2017.4.17 in /home/artem/.local/lib/python3.10/site-packages (from requests->transformers) (2022.12.7)\r\n",
      "Requirement already satisfied: urllib3<1.27,>=1.21.1 in /usr/lib/python3/dist-packages (from requests->transformers) (1.26.5)\r\n",
      "Requirement already satisfied: charset-normalizer<3,>=2 in /home/artem/.local/lib/python3.10/site-packages (from requests->transformers) (2.0.12)\r\n",
      "Requirement already satisfied: idna<4,>=2.5 in /usr/lib/python3/dist-packages (from requests->transformers) (3.3)\r\n"
     ]
    }
   ],
   "source": [
    "!pip install numpy\n",
    "!pip install librosa\n",
    "!pip install ffmpeg\n",
    "!pip install torch\n",
    "!pip install transformers\n",
    "!pip install sklearn"
   ]
  },
  {
   "cell_type": "code",
   "execution_count": 1,
   "id": "fa13352c",
   "metadata": {},
   "outputs": [],
   "source": [
    "import librosa\n",
    "import os\n",
    "import sys\n",
    "import pandas as pd\n",
    "import numpy as np\n",
    "import matplotlib.pyplot as plt\n",
    "import seaborn as sns\n",
    "import torch\n",
    "from transformers import Wav2Vec2FeatureExtractor, Wav2Vec2Model\n",
    "from tqdm import tqdm"
   ]
  },
  {
   "cell_type": "code",
   "execution_count": 4,
   "id": "38d2ccc8",
   "metadata": {},
   "outputs": [
    {
     "data": {
      "text/html": [
       "<div>\n",
       "<style scoped>\n",
       "    .dataframe tbody tr th:only-of-type {\n",
       "        vertical-align: middle;\n",
       "    }\n",
       "\n",
       "    .dataframe tbody tr th {\n",
       "        vertical-align: top;\n",
       "    }\n",
       "\n",
       "    .dataframe thead th {\n",
       "        text-align: right;\n",
       "    }\n",
       "</style>\n",
       "<table border=\"1\" class=\"dataframe\">\n",
       "  <thead>\n",
       "    <tr style=\"text-align: right;\">\n",
       "      <th></th>\n",
       "      <th>Emotions</th>\n",
       "      <th>Path</th>\n",
       "    </tr>\n",
       "  </thead>\n",
       "  <tbody>\n",
       "    <tr>\n",
       "      <th>0</th>\n",
       "      <td>angry</td>\n",
       "      <td>data/Ravdess/Actor_21/03-01-05-02-02-02-21.wav</td>\n",
       "    </tr>\n",
       "    <tr>\n",
       "      <th>1</th>\n",
       "      <td>calm</td>\n",
       "      <td>data/Ravdess/Actor_21/03-01-02-01-01-02-21.wav</td>\n",
       "    </tr>\n",
       "    <tr>\n",
       "      <th>2</th>\n",
       "      <td>surprise</td>\n",
       "      <td>data/Ravdess/Actor_21/03-01-08-02-01-01-21.wav</td>\n",
       "    </tr>\n",
       "    <tr>\n",
       "      <th>3</th>\n",
       "      <td>sad</td>\n",
       "      <td>data/Ravdess/Actor_21/03-01-04-02-02-02-21.wav</td>\n",
       "    </tr>\n",
       "    <tr>\n",
       "      <th>4</th>\n",
       "      <td>surprise</td>\n",
       "      <td>data/Ravdess/Actor_21/03-01-08-02-02-01-21.wav</td>\n",
       "    </tr>\n",
       "  </tbody>\n",
       "</table>\n",
       "</div>"
      ],
      "text/plain": [
       "   Emotions                                            Path\n",
       "0     angry  data/Ravdess/Actor_21/03-01-05-02-02-02-21.wav\n",
       "1      calm  data/Ravdess/Actor_21/03-01-02-01-01-02-21.wav\n",
       "2  surprise  data/Ravdess/Actor_21/03-01-08-02-01-01-21.wav\n",
       "3       sad  data/Ravdess/Actor_21/03-01-04-02-02-02-21.wav\n",
       "4  surprise  data/Ravdess/Actor_21/03-01-08-02-02-01-21.wav"
      ]
     },
     "execution_count": 4,
     "metadata": {},
     "output_type": "execute_result"
    }
   ],
   "source": [
    "Ravdess = \"data/Ravdess/\"\n",
    "ravdess_directory_list = os.listdir(Ravdess)\n",
    "\n",
    "files_emotion = []\n",
    "files_path = []\n",
    "for dir in ravdess_directory_list:\n",
    "    actor = os.listdir(Ravdess + dir)\n",
    "    for file in actor:\n",
    "        part = file.split('.')[0]\n",
    "        part = part.split('-')\n",
    "        # third part represents the emotion\n",
    "        files_emotion.append(int(part[2]))\n",
    "        files_path.append(Ravdess + dir + '/' + file)\n",
    "        \n",
    "# dataframe for emotion of files\n",
    "emotion_df = pd.DataFrame(files_emotion, columns=['Emotions'])\n",
    "\n",
    "# dataframe for path of files.\n",
    "path_df = pd.DataFrame(files_path, columns=['Path'])\n",
    "Ravdess_df = pd.concat([emotion_df, path_df], axis=1)\n",
    "\n",
    "# changing integers to actual emotions.\n",
    "Ravdess_df.Emotions.replace({1:'neutral', 2:'calm', 3:'happy', 4:'sad', 5:'angry', 6:'fear', 7:'disgust', 8:'surprise'}, inplace=True)\n",
    "Ravdess_df.head()"
   ]
  },
  {
   "cell_type": "code",
   "execution_count": 5,
   "id": "cbfdb536",
   "metadata": {},
   "outputs": [
    {
     "data": {
      "text/plain": [
       "<Axes: xlabel='Emotions', ylabel='Count'>"
      ]
     },
     "execution_count": 5,
     "metadata": {},
     "output_type": "execute_result"
    },
    {
     "data": {
      "image/png": "[encoded data removed]",
      "text/plain": [
       "<Figure size 432x288 with 1 Axes>"
      ]
     },
     "metadata": {
      "needs_background": "light"
     },
     "output_type": "display_data"
    }
   ],
   "source": [
    "sns.histplot(data=Ravdess_df, x=\"Emotions\")"
   ]
  },
  {
   "cell_type": "markdown",
   "id": "987f5ad4",
   "metadata": {},
   "source": [
    "Классы не сбалансированны из-за того, что для neutral только одна интенсивность и, соответсвенно, в два раза меньше записей"
   ]
  },
  {
   "cell_type": "markdown",
   "id": "028f14eb",
   "metadata": {},
   "source": [
    "## Wav2Vec2\n",
    "\n",
    "Теперь извлечём фичи из наших аудио с помощью эмбеддингов предобученной Wav2Vec2. Для этого мы прогоним наши аудио через модель и получим состояние последнего скрытого слоя. Уже на этих значениях, как фичах, будем тренировать собственный классификатор"
   ]
  },
  {
   "cell_type": "code",
   "execution_count": 6,
   "id": "ea129ff5",
   "metadata": {},
   "outputs": [
    {
     "name": "stderr",
     "output_type": "stream",
     "text": [
      "Some weights of Wav2Vec2Model were not initialized from the model checkpoint at facebook/wav2vec2-large-xlsr-53 and are newly initialized: ['wav2vec2.encoder.pos_conv_embed.conv.parametrizations.weight.original1', 'wav2vec2.encoder.pos_conv_embed.conv.parametrizations.weight.original0']\n",
      "You should probably TRAIN this model on a down-stream task to be able to use it for predictions and inference.\n"
     ]
    }
   ],
   "source": [
    "# Initialising\n",
    "\n",
    "# we use the facebook pretrained model\n",
    "model_name = \"facebook/wav2vec2-large-xlsr-53\"\n",
    "feature_extractor = Wav2Vec2FeatureExtractor.from_pretrained(model_name)\n",
    "model = Wav2Vec2Model.from_pretrained(model_name)"
   ]
  },
  {
   "cell_type": "markdown",
   "id": "4f731a64",
   "metadata": {},
   "source": [
    "Будем использовать частоту дискретизации 16k, так как на этом значении обучалась Wav2Vec2. Помимо этого, в документации указано, что нормализация входящего аудио может существенно улучшить результаты, так что сделаем это"
   ]
  },
  {
   "cell_type": "code",
   "execution_count": 101,
   "id": "e92f159b",
   "metadata": {},
   "outputs": [],
   "source": [
    "def get_feature(input_audio):\n",
    "    \n",
    "    # normilising the input, so that it has zero mean and unit variance\n",
    "    normalised_input = feature_extractor(input_audio, return_tensors=\"pt\", \n",
    "                                         feature_size=1, sampling_rate=sample_rate,\n",
    "                                        padding=True)\n",
    "\n",
    "    with torch.no_grad():\n",
    "        # getting the representation in Wav2Vec2\n",
    "        outputs = model(normalised_input.input_values, output_hidden_states=True)\n",
    "\n",
    "    embeddings = outputs.last_hidden_state\n",
    "\n",
    "    return np.mean(embeddings[0].numpy(), axis=0).astype(np.float32)"
   ]
  },
  {
   "cell_type": "code",
   "execution_count": 120,
   "id": "d4ba219e",
   "metadata": {},
   "outputs": [
    {
     "name": "stderr",
     "output_type": "stream",
     "text": [
      "100%|███████████████████████████████████████| 1440/1440 [16:15<00:00,  1.48it/s]\n"
     ]
    }
   ],
   "source": [
    "features = []\n",
    "\n",
    "for file_path in tqdm(Ravdess_df.Path):\n",
    "    input_audio, sample_rate = librosa.load(file_path,  sr=16000)\n",
    "    features.append(get_feature(input_audio))\n",
    "\n",
    "features = np.array(features)"
   ]
  },
  {
   "cell_type": "code",
   "execution_count": 121,
   "id": "32141d71",
   "metadata": {},
   "outputs": [
    {
     "data": {
      "text/plain": [
       "(1440, 1024)"
      ]
     },
     "execution_count": 121,
     "metadata": {},
     "output_type": "execute_result"
    }
   ],
   "source": [
    "features.shape"
   ]
  },
  {
   "cell_type": "code",
   "execution_count": 15,
   "id": "09fad178",
   "metadata": {},
   "outputs": [],
   "source": [
    "with open('Github/data/features', 'wb') as f:\n",
    "    np.save(f, features)"
   ]
  },
  {
   "cell_type": "code",
   "execution_count": 16,
   "id": "b60c02a0",
   "metadata": {},
   "outputs": [],
   "source": [
    "with open('Github/data/train_labels', 'wb') as f:\n",
    "    np.save(f, np.array(files_emotion))"
   ]
  },
  {
   "cell_type": "markdown",
   "id": "ee5d49eb",
   "metadata": {},
   "source": [
    "## Классификация\n",
    "\n",
    "Было рассмотрено несколько классификаторов в файле comparing_models.ipynb . Лучший скор был у градиентного бустинга с n_estimators = 1000 и max_depth = 5. Здесь мы им и воспользуемся. \n",
    "\n",
    "С более подробным сравнением моделей можно ознакомится в comparing_models.ipynb "
   ]
  },
  {
   "cell_type": "code",
   "execution_count": 13,
   "id": "166634e9",
   "metadata": {},
   "outputs": [],
   "source": [
    "X = pd.DataFrame(features)\n",
    "y = pd.Series(Ravdess_df.Emotions)"
   ]
  },
  {
   "cell_type": "code",
   "execution_count": 16,
   "id": "24d7cbb3",
   "metadata": {},
   "outputs": [],
   "source": [
    "from sklearn.ensemble import GradientBoostingClassifier\n",
    "from sklearn.model_selection import train_test_split\n",
    "\n",
    "clf = GradientBoostingClassifier(warm_start=True, max_depth=2, \n",
    "                                 learning_rate=0.1, subsample=1,\n",
    "                                n_estimators=100)"
   ]
  },
  {
   "cell_type": "code",
   "execution_count": 17,
   "id": "d95bbaf8",
   "metadata": {},
   "outputs": [
    {
     "name": "stdout",
     "output_type": "stream",
     "text": [
      "Train:  0.9927385892116183\n",
      "Test:  0.48739495798319327\n"
     ]
    }
   ],
   "source": [
    "X_train, X_test, y_train, y_test = train_test_split(X, y, test_size=0.33, stratify = y)\n",
    "\n",
    "clf.fit(X_train, y_train)\n",
    "print(\"Train: \", clf.score(X_train, y_train))\n",
    "print(\"Test: \", clf.score(X_test, y_test))"
   ]
  },
  {
   "cell_type": "markdown",
   "id": "76ba727c",
   "metadata": {},
   "source": [
    "Итоговый скор - 48.7%, что весьма неплохо. Сохраним веса модели"
   ]
  },
  {
   "cell_type": "code",
   "execution_count": 18,
   "id": "777dcaa1",
   "metadata": {},
   "outputs": [],
   "source": [
    "import pickle\n",
    "# save the model to disk\n",
    "filename = 'GradientBoostingClassifier_weights.sav'\n",
    "pickle.dump(clf, open(filename, 'wb'))"
   ]
  },
  {
   "cell_type": "markdown",
   "id": "83eb92e2",
   "metadata": {},
   "source": [
    "Рассмотрим больше метрик по каждому классу"
   ]
  },
  {
   "cell_type": "code",
   "execution_count": 20,
   "id": "5d5d3a20",
   "metadata": {},
   "outputs": [
    {
     "name": "stdout",
     "output_type": "stream",
     "text": [
      "Results on the test set:\n",
      "              precision    recall  f1-score   support\n",
      "\n",
      "       angry       0.64      0.65      0.65        63\n",
      "        calm       0.53      0.60      0.56        63\n",
      "     disgust       0.45      0.52      0.49        63\n",
      "        fear       0.62      0.59      0.61        64\n",
      "       happy       0.37      0.44      0.40        64\n",
      "     neutral       0.42      0.25      0.31        32\n",
      "         sad       0.25      0.21      0.23        63\n",
      "    surprise       0.54      0.52      0.53        64\n",
      "\n",
      "    accuracy                           0.49       476\n",
      "   macro avg       0.48      0.47      0.47       476\n",
      "weighted avg       0.48      0.49      0.48       476\n",
      "\n"
     ]
    }
   ],
   "source": [
    "from sklearn.metrics import classification_report\n",
    "\n",
    "print('Results on the test set:')\n",
    "print(classification_report(y_test, clf.predict(X_test)))"
   ]
  },
  {
   "cell_type": "markdown",
   "id": "2205a15f",
   "metadata": {},
   "source": [
    "Видно, что с эмоциями злости, страха, удивления модель справляется лучше всего. И хуже всего с грустью"
   ]
  }
 ],
 "metadata": {
  "kernelspec": {
   "display_name": "Python 3 (ipykernel)",
   "language": "python",
   "name": "python3"
  },
  "language_info": {
   "codemirror_mode": {
    "name": "ipython",
    "version": 3
   },
   "file_extension": ".py",
   "mimetype": "text/x-python",
   "name": "python",
   "nbconvert_exporter": "python",
   "pygments_lexer": "ipython3",
   "version": "3.10.12"
  }
 },
 "nbformat": 4,
 "nbformat_minor": 5
}
